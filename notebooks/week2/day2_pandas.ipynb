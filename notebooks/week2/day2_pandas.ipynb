{
 "cells": [
  {
   "cell_type": "markdown",
   "id": "024a8000",
   "metadata": {},
   "source": [
    "# Pandas Essentials (Series, DataFrame, I/O, Cleaning) (2–3 ώρες)"
   ]
  },
  {
   "cell_type": "code",
   "execution_count": 1,
   "id": "3707eb43",
   "metadata": {},
   "outputs": [],
   "source": [
    "import pandas as pd\n",
    "import numpy as np"
   ]
  },
  {
   "cell_type": "markdown",
   "id": "7ef20fc1",
   "metadata": {},
   "source": [
    "1) Φόρτωμα & Επιθεώρηση"
   ]
  },
  {
   "cell_type": "code",
   "execution_count": 2,
   "id": "db915404",
   "metadata": {},
   "outputs": [
    {
     "name": "stdout",
     "output_type": "stream",
     "text": [
      "<class 'pandas.core.frame.DataFrame'>\n",
      "RangeIndex: 50 entries, 0 to 49\n",
      "Data columns (total 8 columns):\n",
      " #   Column          Non-Null Count  Dtype  \n",
      "---  ------          --------------  -----  \n",
      " 0   transaction_id  50 non-null     int64  \n",
      " 1   date            50 non-null     object \n",
      " 2   amount          50 non-null     float64\n",
      " 3   currency        50 non-null     object \n",
      " 4   country         50 non-null     object \n",
      " 5   merchant        50 non-null     object \n",
      " 6   merchant_id     50 non-null     int64  \n",
      " 7   class           50 non-null     int64  \n",
      "dtypes: float64(1), int64(3), object(4)\n",
      "memory usage: 3.3+ KB\n"
     ]
    },
    {
     "data": {
      "text/html": [
       "<div>\n",
       "<style scoped>\n",
       "    .dataframe tbody tr th:only-of-type {\n",
       "        vertical-align: middle;\n",
       "    }\n",
       "\n",
       "    .dataframe tbody tr th {\n",
       "        vertical-align: top;\n",
       "    }\n",
       "\n",
       "    .dataframe thead th {\n",
       "        text-align: right;\n",
       "    }\n",
       "</style>\n",
       "<table border=\"1\" class=\"dataframe\">\n",
       "  <thead>\n",
       "    <tr style=\"text-align: right;\">\n",
       "      <th></th>\n",
       "      <th>transaction_id</th>\n",
       "      <th>date</th>\n",
       "      <th>amount</th>\n",
       "      <th>currency</th>\n",
       "      <th>country</th>\n",
       "      <th>merchant</th>\n",
       "      <th>merchant_id</th>\n",
       "      <th>class</th>\n",
       "    </tr>\n",
       "  </thead>\n",
       "  <tbody>\n",
       "    <tr>\n",
       "      <th>count</th>\n",
       "      <td>50.00000</td>\n",
       "      <td>50</td>\n",
       "      <td>50.00000</td>\n",
       "      <td>50</td>\n",
       "      <td>50</td>\n",
       "      <td>50</td>\n",
       "      <td>50.000000</td>\n",
       "      <td>50.000000</td>\n",
       "    </tr>\n",
       "    <tr>\n",
       "      <th>unique</th>\n",
       "      <td>NaN</td>\n",
       "      <td>50</td>\n",
       "      <td>NaN</td>\n",
       "      <td>3</td>\n",
       "      <td>5</td>\n",
       "      <td>5</td>\n",
       "      <td>NaN</td>\n",
       "      <td>NaN</td>\n",
       "    </tr>\n",
       "    <tr>\n",
       "      <th>top</th>\n",
       "      <td>NaN</td>\n",
       "      <td>2024-01-01</td>\n",
       "      <td>NaN</td>\n",
       "      <td>EUR</td>\n",
       "      <td>GR</td>\n",
       "      <td>Netflix</td>\n",
       "      <td>NaN</td>\n",
       "      <td>NaN</td>\n",
       "    </tr>\n",
       "    <tr>\n",
       "      <th>freq</th>\n",
       "      <td>NaN</td>\n",
       "      <td>1</td>\n",
       "      <td>NaN</td>\n",
       "      <td>23</td>\n",
       "      <td>14</td>\n",
       "      <td>14</td>\n",
       "      <td>NaN</td>\n",
       "      <td>NaN</td>\n",
       "    </tr>\n",
       "    <tr>\n",
       "      <th>mean</th>\n",
       "      <td>25.50000</td>\n",
       "      <td>NaN</td>\n",
       "      <td>268.18000</td>\n",
       "      <td>NaN</td>\n",
       "      <td>NaN</td>\n",
       "      <td>NaN</td>\n",
       "      <td>2.800000</td>\n",
       "      <td>0.180000</td>\n",
       "    </tr>\n",
       "    <tr>\n",
       "      <th>std</th>\n",
       "      <td>14.57738</td>\n",
       "      <td>NaN</td>\n",
       "      <td>143.52909</td>\n",
       "      <td>NaN</td>\n",
       "      <td>NaN</td>\n",
       "      <td>NaN</td>\n",
       "      <td>1.324803</td>\n",
       "      <td>0.388088</td>\n",
       "    </tr>\n",
       "    <tr>\n",
       "      <th>min</th>\n",
       "      <td>1.00000</td>\n",
       "      <td>NaN</td>\n",
       "      <td>25.00000</td>\n",
       "      <td>NaN</td>\n",
       "      <td>NaN</td>\n",
       "      <td>NaN</td>\n",
       "      <td>1.000000</td>\n",
       "      <td>0.000000</td>\n",
       "    </tr>\n",
       "    <tr>\n",
       "      <th>25%</th>\n",
       "      <td>13.25000</td>\n",
       "      <td>NaN</td>\n",
       "      <td>154.50000</td>\n",
       "      <td>NaN</td>\n",
       "      <td>NaN</td>\n",
       "      <td>NaN</td>\n",
       "      <td>2.000000</td>\n",
       "      <td>0.000000</td>\n",
       "    </tr>\n",
       "    <tr>\n",
       "      <th>50%</th>\n",
       "      <td>25.50000</td>\n",
       "      <td>NaN</td>\n",
       "      <td>268.50000</td>\n",
       "      <td>NaN</td>\n",
       "      <td>NaN</td>\n",
       "      <td>NaN</td>\n",
       "      <td>3.000000</td>\n",
       "      <td>0.000000</td>\n",
       "    </tr>\n",
       "    <tr>\n",
       "      <th>75%</th>\n",
       "      <td>37.75000</td>\n",
       "      <td>NaN</td>\n",
       "      <td>386.75000</td>\n",
       "      <td>NaN</td>\n",
       "      <td>NaN</td>\n",
       "      <td>NaN</td>\n",
       "      <td>4.000000</td>\n",
       "      <td>0.000000</td>\n",
       "    </tr>\n",
       "    <tr>\n",
       "      <th>max</th>\n",
       "      <td>50.00000</td>\n",
       "      <td>NaN</td>\n",
       "      <td>496.00000</td>\n",
       "      <td>NaN</td>\n",
       "      <td>NaN</td>\n",
       "      <td>NaN</td>\n",
       "      <td>5.000000</td>\n",
       "      <td>1.000000</td>\n",
       "    </tr>\n",
       "  </tbody>\n",
       "</table>\n",
       "</div>"
      ],
      "text/plain": [
       "        transaction_id        date     amount currency country merchant  \\\n",
       "count         50.00000          50   50.00000       50      50       50   \n",
       "unique             NaN          50        NaN        3       5        5   \n",
       "top                NaN  2024-01-01        NaN      EUR      GR  Netflix   \n",
       "freq               NaN           1        NaN       23      14       14   \n",
       "mean          25.50000         NaN  268.18000      NaN     NaN      NaN   \n",
       "std           14.57738         NaN  143.52909      NaN     NaN      NaN   \n",
       "min            1.00000         NaN   25.00000      NaN     NaN      NaN   \n",
       "25%           13.25000         NaN  154.50000      NaN     NaN      NaN   \n",
       "50%           25.50000         NaN  268.50000      NaN     NaN      NaN   \n",
       "75%           37.75000         NaN  386.75000      NaN     NaN      NaN   \n",
       "max           50.00000         NaN  496.00000      NaN     NaN      NaN   \n",
       "\n",
       "        merchant_id      class  \n",
       "count     50.000000  50.000000  \n",
       "unique          NaN        NaN  \n",
       "top             NaN        NaN  \n",
       "freq            NaN        NaN  \n",
       "mean       2.800000   0.180000  \n",
       "std        1.324803   0.388088  \n",
       "min        1.000000   0.000000  \n",
       "25%        2.000000   0.000000  \n",
       "50%        3.000000   0.000000  \n",
       "75%        4.000000   0.000000  \n",
       "max        5.000000   1.000000  "
      ]
     },
     "execution_count": 2,
     "metadata": {},
     "output_type": "execute_result"
    }
   ],
   "source": [
    "df = pd.read_csv(\"transactions_sample.csv\")\n",
    "\n",
    "df.head()         # πρώτες 5 γραμμές\n",
    "df.tail()         # τελευταίες 5 γραμμές\n",
    "df.sample(5)      # τυχαίο δείγμα\n",
    "df.shape          # (rows, cols)\n",
    "df.info()         # πληροφορίες στηλών\n",
    "df.dtypes         # τύποι\n",
    "df.describe()     # αριθμητικά στατιστικά\n",
    "df.describe(include=\"all\")  # όλα τα είδη στηλών\n"
   ]
  },
  {
   "cell_type": "markdown",
   "id": "3bf7a79a",
   "metadata": {},
   "source": [
    "Μετατροπές τύπων"
   ]
  },
  {
   "cell_type": "code",
   "execution_count": 3,
   "id": "f27e81bf",
   "metadata": {},
   "outputs": [],
   "source": [
    "df[\"date\"] = pd.to_datetime(df[\"date\"])\n",
    "df[\"amount\"] = df[\"amount\"].astype(float)"
   ]
  },
  {
   "cell_type": "markdown",
   "id": "af6c8d9c",
   "metadata": {},
   "source": [
    "2) Επιλογές / Φιλτράρισμα / Νέες Στήλες (≈45’)"
   ]
  },
  {
   "cell_type": "markdown",
   "id": "c50bdcb0",
   "metadata": {},
   "source": [
    "Επιλογές"
   ]
  },
  {
   "cell_type": "code",
   "execution_count": 4,
   "id": "d5786b7d",
   "metadata": {},
   "outputs": [
    {
     "data": {
      "text/html": [
       "<div>\n",
       "<style scoped>\n",
       "    .dataframe tbody tr th:only-of-type {\n",
       "        vertical-align: middle;\n",
       "    }\n",
       "\n",
       "    .dataframe tbody tr th {\n",
       "        vertical-align: top;\n",
       "    }\n",
       "\n",
       "    .dataframe thead th {\n",
       "        text-align: right;\n",
       "    }\n",
       "</style>\n",
       "<table border=\"1\" class=\"dataframe\">\n",
       "  <thead>\n",
       "    <tr style=\"text-align: right;\">\n",
       "      <th></th>\n",
       "      <th>transaction_id</th>\n",
       "      <th>date</th>\n",
       "    </tr>\n",
       "  </thead>\n",
       "  <tbody>\n",
       "    <tr>\n",
       "      <th>0</th>\n",
       "      <td>1</td>\n",
       "      <td>2024-01-01</td>\n",
       "    </tr>\n",
       "    <tr>\n",
       "      <th>1</th>\n",
       "      <td>2</td>\n",
       "      <td>2024-01-02</td>\n",
       "    </tr>\n",
       "    <tr>\n",
       "      <th>2</th>\n",
       "      <td>3</td>\n",
       "      <td>2024-01-03</td>\n",
       "    </tr>\n",
       "    <tr>\n",
       "      <th>3</th>\n",
       "      <td>4</td>\n",
       "      <td>2024-01-04</td>\n",
       "    </tr>\n",
       "    <tr>\n",
       "      <th>4</th>\n",
       "      <td>5</td>\n",
       "      <td>2024-01-05</td>\n",
       "    </tr>\n",
       "  </tbody>\n",
       "</table>\n",
       "</div>"
      ],
      "text/plain": [
       "   transaction_id       date\n",
       "0               1 2024-01-01\n",
       "1               2 2024-01-02\n",
       "2               3 2024-01-03\n",
       "3               4 2024-01-04\n",
       "4               5 2024-01-05"
      ]
     },
     "execution_count": 4,
     "metadata": {},
     "output_type": "execute_result"
    }
   ],
   "source": [
    "df[\"amount\"]                # μία στήλη (Series)\n",
    "df[[\"amount\",\"country\"]]    # πολλές στήλες\n",
    "df.loc[0:5, [\"amount\",\"country\"]]  # με labels\n",
    "df.iloc[0:5, 0:2]           # με index θέσεις"
   ]
  },
  {
   "cell_type": "markdown",
   "id": "8cc2226d",
   "metadata": {},
   "source": [
    "Φιλτράρισμα"
   ]
  },
  {
   "cell_type": "code",
   "execution_count": 5,
   "id": "e4c900b1",
   "metadata": {},
   "outputs": [
    {
     "data": {
      "text/html": [
       "<div>\n",
       "<style scoped>\n",
       "    .dataframe tbody tr th:only-of-type {\n",
       "        vertical-align: middle;\n",
       "    }\n",
       "\n",
       "    .dataframe tbody tr th {\n",
       "        vertical-align: top;\n",
       "    }\n",
       "\n",
       "    .dataframe thead th {\n",
       "        text-align: right;\n",
       "    }\n",
       "</style>\n",
       "<table border=\"1\" class=\"dataframe\">\n",
       "  <thead>\n",
       "    <tr style=\"text-align: right;\">\n",
       "      <th></th>\n",
       "      <th>transaction_id</th>\n",
       "      <th>date</th>\n",
       "      <th>amount</th>\n",
       "      <th>currency</th>\n",
       "      <th>country</th>\n",
       "      <th>merchant</th>\n",
       "      <th>merchant_id</th>\n",
       "      <th>class</th>\n",
       "    </tr>\n",
       "  </thead>\n",
       "  <tbody>\n",
       "    <tr>\n",
       "      <th>2</th>\n",
       "      <td>3</td>\n",
       "      <td>2024-01-03</td>\n",
       "      <td>353.0</td>\n",
       "      <td>USD</td>\n",
       "      <td>GR</td>\n",
       "      <td>IKEA</td>\n",
       "      <td>3</td>\n",
       "      <td>0</td>\n",
       "    </tr>\n",
       "    <tr>\n",
       "      <th>10</th>\n",
       "      <td>11</td>\n",
       "      <td>2024-01-11</td>\n",
       "      <td>471.0</td>\n",
       "      <td>EUR</td>\n",
       "      <td>GR</td>\n",
       "      <td>Spotify</td>\n",
       "      <td>2</td>\n",
       "      <td>1</td>\n",
       "    </tr>\n",
       "    <tr>\n",
       "      <th>11</th>\n",
       "      <td>12</td>\n",
       "      <td>2024-01-12</td>\n",
       "      <td>219.0</td>\n",
       "      <td>USD</td>\n",
       "      <td>GR</td>\n",
       "      <td>Spotify</td>\n",
       "      <td>4</td>\n",
       "      <td>0</td>\n",
       "    </tr>\n",
       "    <tr>\n",
       "      <th>12</th>\n",
       "      <td>13</td>\n",
       "      <td>2024-01-13</td>\n",
       "      <td>335.0</td>\n",
       "      <td>EUR</td>\n",
       "      <td>GR</td>\n",
       "      <td>Netflix</td>\n",
       "      <td>5</td>\n",
       "      <td>0</td>\n",
       "    </tr>\n",
       "    <tr>\n",
       "      <th>13</th>\n",
       "      <td>14</td>\n",
       "      <td>2024-01-14</td>\n",
       "      <td>463.0</td>\n",
       "      <td>EUR</td>\n",
       "      <td>GR</td>\n",
       "      <td>eBay</td>\n",
       "      <td>1</td>\n",
       "      <td>0</td>\n",
       "    </tr>\n",
       "    <tr>\n",
       "      <th>17</th>\n",
       "      <td>18</td>\n",
       "      <td>2024-01-18</td>\n",
       "      <td>364.0</td>\n",
       "      <td>USD</td>\n",
       "      <td>GR</td>\n",
       "      <td>IKEA</td>\n",
       "      <td>5</td>\n",
       "      <td>0</td>\n",
       "    </tr>\n",
       "    <tr>\n",
       "      <th>20</th>\n",
       "      <td>21</td>\n",
       "      <td>2024-01-21</td>\n",
       "      <td>154.0</td>\n",
       "      <td>GBP</td>\n",
       "      <td>GR</td>\n",
       "      <td>Netflix</td>\n",
       "      <td>4</td>\n",
       "      <td>0</td>\n",
       "    </tr>\n",
       "    <tr>\n",
       "      <th>25</th>\n",
       "      <td>26</td>\n",
       "      <td>2024-01-26</td>\n",
       "      <td>418.0</td>\n",
       "      <td>USD</td>\n",
       "      <td>GR</td>\n",
       "      <td>Netflix</td>\n",
       "      <td>4</td>\n",
       "      <td>0</td>\n",
       "    </tr>\n",
       "    <tr>\n",
       "      <th>27</th>\n",
       "      <td>28</td>\n",
       "      <td>2024-01-28</td>\n",
       "      <td>390.0</td>\n",
       "      <td>EUR</td>\n",
       "      <td>GR</td>\n",
       "      <td>Amazon</td>\n",
       "      <td>3</td>\n",
       "      <td>1</td>\n",
       "    </tr>\n",
       "    <tr>\n",
       "      <th>30</th>\n",
       "      <td>31</td>\n",
       "      <td>2024-01-31</td>\n",
       "      <td>281.0</td>\n",
       "      <td>EUR</td>\n",
       "      <td>GR</td>\n",
       "      <td>Spotify</td>\n",
       "      <td>4</td>\n",
       "      <td>0</td>\n",
       "    </tr>\n",
       "    <tr>\n",
       "      <th>36</th>\n",
       "      <td>37</td>\n",
       "      <td>2024-02-06</td>\n",
       "      <td>240.0</td>\n",
       "      <td>EUR</td>\n",
       "      <td>GR</td>\n",
       "      <td>Spotify</td>\n",
       "      <td>3</td>\n",
       "      <td>0</td>\n",
       "    </tr>\n",
       "    <tr>\n",
       "      <th>44</th>\n",
       "      <td>45</td>\n",
       "      <td>2024-02-14</td>\n",
       "      <td>468.0</td>\n",
       "      <td>GBP</td>\n",
       "      <td>GR</td>\n",
       "      <td>Amazon</td>\n",
       "      <td>1</td>\n",
       "      <td>0</td>\n",
       "    </tr>\n",
       "  </tbody>\n",
       "</table>\n",
       "</div>"
      ],
      "text/plain": [
       "    transaction_id       date  amount currency country merchant  merchant_id  \\\n",
       "2                3 2024-01-03   353.0      USD      GR     IKEA            3   \n",
       "10              11 2024-01-11   471.0      EUR      GR  Spotify            2   \n",
       "11              12 2024-01-12   219.0      USD      GR  Spotify            4   \n",
       "12              13 2024-01-13   335.0      EUR      GR  Netflix            5   \n",
       "13              14 2024-01-14   463.0      EUR      GR     eBay            1   \n",
       "17              18 2024-01-18   364.0      USD      GR     IKEA            5   \n",
       "20              21 2024-01-21   154.0      GBP      GR  Netflix            4   \n",
       "25              26 2024-01-26   418.0      USD      GR  Netflix            4   \n",
       "27              28 2024-01-28   390.0      EUR      GR   Amazon            3   \n",
       "30              31 2024-01-31   281.0      EUR      GR  Spotify            4   \n",
       "36              37 2024-02-06   240.0      EUR      GR  Spotify            3   \n",
       "44              45 2024-02-14   468.0      GBP      GR   Amazon            1   \n",
       "\n",
       "    class  \n",
       "2       0  \n",
       "10      1  \n",
       "11      0  \n",
       "12      0  \n",
       "13      0  \n",
       "17      0  \n",
       "20      0  \n",
       "25      0  \n",
       "27      1  \n",
       "30      0  \n",
       "36      0  \n",
       "44      0  "
      ]
     },
     "execution_count": 5,
     "metadata": {},
     "output_type": "execute_result"
    }
   ],
   "source": [
    "df[df[\"amount\"] > 100]\n",
    "\n",
    "df[(df[\"amount\"] > 100) & (df[\"country\"] == \"GR\")]\n"
   ]
  },
  {
   "cell_type": "markdown",
   "id": "6cab3755",
   "metadata": {},
   "source": [
    "Νέες στήλες"
   ]
  },
  {
   "cell_type": "code",
   "execution_count": 6,
   "id": "cb688157",
   "metadata": {},
   "outputs": [],
   "source": [
    "df[\"amount_eur\"] = df[\"amount\"] * 0.92"
   ]
  },
  {
   "cell_type": "markdown",
   "id": "b3172f02",
   "metadata": {},
   "source": [
    "Missing values"
   ]
  },
  {
   "cell_type": "code",
   "execution_count": 7,
   "id": "d61711b5",
   "metadata": {},
   "outputs": [
    {
     "name": "stderr",
     "output_type": "stream",
     "text": [
      "C:\\Users\\ΛΑΖΑΡΟΣ\\AppData\\Local\\Temp\\ipykernel_14876\\3895914512.py:2: FutureWarning: A value is trying to be set on a copy of a DataFrame or Series through chained assignment using an inplace method.\n",
      "The behavior will change in pandas 3.0. This inplace method will never work because the intermediate object on which we are setting values always behaves as a copy.\n",
      "\n",
      "For example, when doing 'df[col].method(value, inplace=True)', try using 'df.method({col: value}, inplace=True)' or df[col] = df[col].method(value) instead, to perform the operation inplace on the original object.\n",
      "\n",
      "\n",
      "  df[\"country\"].fillna(\"Unknown\", inplace=True)\n"
     ]
    }
   ],
   "source": [
    "df.isna().sum()\n",
    "df[\"country\"].fillna(\"Unknown\", inplace=True)\n",
    "df.dropna(subset=[\"merchant\"], inplace=True)\n"
   ]
  },
  {
   "cell_type": "code",
   "execution_count": 8,
   "id": "393a3981",
   "metadata": {},
   "outputs": [
    {
     "name": "stdout",
     "output_type": "stream",
     "text": [
      "Index(['transaction_id', 'date', 'amount', 'currency', 'country', 'merchant',\n",
      "       'merchant_id', 'class', 'amount_eur'],\n",
      "      dtype='object')\n"
     ]
    }
   ],
   "source": [
    "print(df.columns)\n"
   ]
  },
  {
   "cell_type": "markdown",
   "id": "4147cb3b",
   "metadata": {},
   "source": [
    "3) Ομαδοποιήσεις / Στατιστικά / Ταξινομήσεις"
   ]
  },
  {
   "cell_type": "markdown",
   "id": "25e93eb5",
   "metadata": {},
   "source": [
    "- Ομαδοποίηση & συναθροίσεις"
   ]
  },
  {
   "cell_type": "code",
   "execution_count": 11,
   "id": "c67d0ee2",
   "metadata": {},
   "outputs": [
    {
     "data": {
      "text/html": [
       "<div>\n",
       "<style scoped>\n",
       "    .dataframe tbody tr th:only-of-type {\n",
       "        vertical-align: middle;\n",
       "    }\n",
       "\n",
       "    .dataframe tbody tr th {\n",
       "        vertical-align: top;\n",
       "    }\n",
       "\n",
       "    .dataframe thead th {\n",
       "        text-align: right;\n",
       "    }\n",
       "</style>\n",
       "<table border=\"1\" class=\"dataframe\">\n",
       "  <thead>\n",
       "    <tr style=\"text-align: right;\">\n",
       "      <th></th>\n",
       "      <th>count</th>\n",
       "      <th>mean</th>\n",
       "      <th>sum</th>\n",
       "    </tr>\n",
       "    <tr>\n",
       "      <th>merchant</th>\n",
       "      <th></th>\n",
       "      <th></th>\n",
       "      <th></th>\n",
       "    </tr>\n",
       "  </thead>\n",
       "  <tbody>\n",
       "    <tr>\n",
       "      <th>Netflix</th>\n",
       "      <td>14</td>\n",
       "      <td>304.571429</td>\n",
       "      <td>4264.0</td>\n",
       "    </tr>\n",
       "    <tr>\n",
       "      <th>Amazon</th>\n",
       "      <td>13</td>\n",
       "      <td>282.615385</td>\n",
       "      <td>3674.0</td>\n",
       "    </tr>\n",
       "    <tr>\n",
       "      <th>Spotify</th>\n",
       "      <td>9</td>\n",
       "      <td>251.555556</td>\n",
       "      <td>2264.0</td>\n",
       "    </tr>\n",
       "    <tr>\n",
       "      <th>IKEA</th>\n",
       "      <td>9</td>\n",
       "      <td>200.333333</td>\n",
       "      <td>1803.0</td>\n",
       "    </tr>\n",
       "    <tr>\n",
       "      <th>eBay</th>\n",
       "      <td>5</td>\n",
       "      <td>280.800000</td>\n",
       "      <td>1404.0</td>\n",
       "    </tr>\n",
       "  </tbody>\n",
       "</table>\n",
       "</div>"
      ],
      "text/plain": [
       "          count        mean     sum\n",
       "merchant                           \n",
       "Netflix      14  304.571429  4264.0\n",
       "Amazon       13  282.615385  3674.0\n",
       "Spotify       9  251.555556  2264.0\n",
       "IKEA          9  200.333333  1803.0\n",
       "eBay          5  280.800000  1404.0"
      ]
     },
     "execution_count": 11,
     "metadata": {},
     "output_type": "execute_result"
    }
   ],
   "source": [
    "df.groupby(\"merchant\")[\"amount\"].agg([\"count\",\"mean\",\"sum\"])\\\n",
    "  .sort_values(\"sum\", ascending=False)"
   ]
  },
  {
   "cell_type": "markdown",
   "id": "19db9db0",
   "metadata": {},
   "source": [
    "- Κατανομή κατηγορίας (ποσοστά)"
   ]
  },
  {
   "cell_type": "code",
   "execution_count": null,
   "id": "514246f0",
   "metadata": {},
   "outputs": [
    {
     "data": {
      "text/plain": [
       "country\n",
       "GR    0.28\n",
       "DE    0.24\n",
       "IT    0.18\n",
       "FR    0.16\n",
       "US    0.14\n",
       "Name: proportion, dtype: float64"
      ]
     },
     "execution_count": 13,
     "metadata": {},
     "output_type": "execute_result"
    }
   ],
   "source": [
    "df[\"country\"].value_counts(normalize=True)\n",
    "# Επιστρέφει Series με το ποσοστό εμφάνισης κάθε χώρας (άθροισμα = 1.0). Χωρίς normalize=True παίρνεις απόλυτους αριθμούς."
   ]
  },
  {
   "cell_type": "markdown",
   "id": "d715ee7a",
   "metadata": {},
   "source": [
    "- Μεγαλύτερα ποσά – 2 ισοδύναμοι δρόμοι"
   ]
  },
  {
   "cell_type": "code",
   "execution_count": null,
   "id": "5457e4ef",
   "metadata": {},
   "outputs": [
    {
     "data": {
      "text/html": [
       "<div>\n",
       "<style scoped>\n",
       "    .dataframe tbody tr th:only-of-type {\n",
       "        vertical-align: middle;\n",
       "    }\n",
       "\n",
       "    .dataframe tbody tr th {\n",
       "        vertical-align: top;\n",
       "    }\n",
       "\n",
       "    .dataframe thead th {\n",
       "        text-align: right;\n",
       "    }\n",
       "</style>\n",
       "<table border=\"1\" class=\"dataframe\">\n",
       "  <thead>\n",
       "    <tr style=\"text-align: right;\">\n",
       "      <th></th>\n",
       "      <th>transaction_id</th>\n",
       "      <th>date</th>\n",
       "      <th>amount</th>\n",
       "      <th>currency</th>\n",
       "      <th>country</th>\n",
       "      <th>merchant</th>\n",
       "      <th>merchant_id</th>\n",
       "      <th>class</th>\n",
       "      <th>amount_eur</th>\n",
       "    </tr>\n",
       "  </thead>\n",
       "  <tbody>\n",
       "    <tr>\n",
       "      <th>24</th>\n",
       "      <td>25</td>\n",
       "      <td>2024-01-25</td>\n",
       "      <td>496.0</td>\n",
       "      <td>EUR</td>\n",
       "      <td>US</td>\n",
       "      <td>eBay</td>\n",
       "      <td>5</td>\n",
       "      <td>0</td>\n",
       "      <td>456.32</td>\n",
       "    </tr>\n",
       "    <tr>\n",
       "      <th>42</th>\n",
       "      <td>43</td>\n",
       "      <td>2024-02-12</td>\n",
       "      <td>480.0</td>\n",
       "      <td>GBP</td>\n",
       "      <td>US</td>\n",
       "      <td>Netflix</td>\n",
       "      <td>4</td>\n",
       "      <td>0</td>\n",
       "      <td>441.60</td>\n",
       "    </tr>\n",
       "    <tr>\n",
       "      <th>39</th>\n",
       "      <td>40</td>\n",
       "      <td>2024-02-09</td>\n",
       "      <td>479.0</td>\n",
       "      <td>EUR</td>\n",
       "      <td>DE</td>\n",
       "      <td>Amazon</td>\n",
       "      <td>2</td>\n",
       "      <td>0</td>\n",
       "      <td>440.68</td>\n",
       "    </tr>\n",
       "    <tr>\n",
       "      <th>10</th>\n",
       "      <td>11</td>\n",
       "      <td>2024-01-11</td>\n",
       "      <td>471.0</td>\n",
       "      <td>EUR</td>\n",
       "      <td>GR</td>\n",
       "      <td>Spotify</td>\n",
       "      <td>2</td>\n",
       "      <td>1</td>\n",
       "      <td>433.32</td>\n",
       "    </tr>\n",
       "    <tr>\n",
       "      <th>44</th>\n",
       "      <td>45</td>\n",
       "      <td>2024-02-14</td>\n",
       "      <td>468.0</td>\n",
       "      <td>GBP</td>\n",
       "      <td>GR</td>\n",
       "      <td>Amazon</td>\n",
       "      <td>1</td>\n",
       "      <td>0</td>\n",
       "      <td>430.56</td>\n",
       "    </tr>\n",
       "  </tbody>\n",
       "</table>\n",
       "</div>"
      ],
      "text/plain": [
       "    transaction_id       date  amount currency country merchant  merchant_id  \\\n",
       "24              25 2024-01-25   496.0      EUR      US     eBay            5   \n",
       "42              43 2024-02-12   480.0      GBP      US  Netflix            4   \n",
       "39              40 2024-02-09   479.0      EUR      DE   Amazon            2   \n",
       "10              11 2024-01-11   471.0      EUR      GR  Spotify            2   \n",
       "44              45 2024-02-14   468.0      GBP      GR   Amazon            1   \n",
       "\n",
       "    class  amount_eur  \n",
       "24      0      456.32  \n",
       "42      0      441.60  \n",
       "39      0      440.68  \n",
       "10      1      433.32  \n",
       "44      0      430.56  "
      ]
     },
     "execution_count": 15,
     "metadata": {},
     "output_type": "execute_result"
    }
   ],
   "source": [
    "df.sort_values(\"amount\", ascending=False).head(5)  # top 5 γραμμές με βάση amount, επιστρέφει ολόκληρες γραμμές (DataFrame)\n"
   ]
  },
  {
   "cell_type": "code",
   "execution_count": 17,
   "id": "f1c024e4",
   "metadata": {},
   "outputs": [
    {
     "data": {
      "text/plain": [
       "24    496.0\n",
       "42    480.0\n",
       "39    479.0\n",
       "10    471.0\n",
       "44    468.0\n",
       "Name: amount, dtype: float64"
      ]
     },
     "execution_count": 17,
     "metadata": {},
     "output_type": "execute_result"
    }
   ],
   "source": [
    "df[\"amount\"].nlargest(5)                           # top 5 τιμές της στήλης amount, επιστρέφει μόνο τις τιμές (Series). nlargest είναι συνήθως πιο γρήγορο και βολικό όταν σε νοιάζουν μόνο οι τιμές (ή μαζί με index)."
   ]
  },
  {
   "cell_type": "markdown",
   "id": "a6772efc",
   "metadata": {},
   "source": [
    "4) Joins / Merge"
   ]
  },
  {
   "cell_type": "code",
   "execution_count": null,
   "id": "b65a6fe5",
   "metadata": {},
   "outputs": [
    {
     "data": {
      "text/html": [
       "<div>\n",
       "<style scoped>\n",
       "    .dataframe tbody tr th:only-of-type {\n",
       "        vertical-align: middle;\n",
       "    }\n",
       "\n",
       "    .dataframe tbody tr th {\n",
       "        vertical-align: top;\n",
       "    }\n",
       "\n",
       "    .dataframe thead th {\n",
       "        text-align: right;\n",
       "    }\n",
       "</style>\n",
       "<table border=\"1\" class=\"dataframe\">\n",
       "  <thead>\n",
       "    <tr style=\"text-align: right;\">\n",
       "      <th></th>\n",
       "      <th>transaction_id</th>\n",
       "      <th>date</th>\n",
       "      <th>amount</th>\n",
       "      <th>currency</th>\n",
       "      <th>country</th>\n",
       "      <th>merchant</th>\n",
       "      <th>merchant_id</th>\n",
       "      <th>class</th>\n",
       "      <th>amount_eur</th>\n",
       "      <th>category</th>\n",
       "    </tr>\n",
       "  </thead>\n",
       "  <tbody>\n",
       "    <tr>\n",
       "      <th>0</th>\n",
       "      <td>1</td>\n",
       "      <td>2024-01-01</td>\n",
       "      <td>107.0</td>\n",
       "      <td>GBP</td>\n",
       "      <td>IT</td>\n",
       "      <td>Amazon</td>\n",
       "      <td>4</td>\n",
       "      <td>0</td>\n",
       "      <td>98.44</td>\n",
       "      <td>NaN</td>\n",
       "    </tr>\n",
       "    <tr>\n",
       "      <th>1</th>\n",
       "      <td>2</td>\n",
       "      <td>2024-01-02</td>\n",
       "      <td>440.0</td>\n",
       "      <td>GBP</td>\n",
       "      <td>US</td>\n",
       "      <td>Netflix</td>\n",
       "      <td>2</td>\n",
       "      <td>0</td>\n",
       "      <td>404.80</td>\n",
       "      <td>electronics</td>\n",
       "    </tr>\n",
       "    <tr>\n",
       "      <th>2</th>\n",
       "      <td>3</td>\n",
       "      <td>2024-01-03</td>\n",
       "      <td>353.0</td>\n",
       "      <td>USD</td>\n",
       "      <td>GR</td>\n",
       "      <td>IKEA</td>\n",
       "      <td>3</td>\n",
       "      <td>0</td>\n",
       "      <td>324.76</td>\n",
       "      <td>travel</td>\n",
       "    </tr>\n",
       "    <tr>\n",
       "      <th>3</th>\n",
       "      <td>4</td>\n",
       "      <td>2024-01-04</td>\n",
       "      <td>275.0</td>\n",
       "      <td>GBP</td>\n",
       "      <td>FR</td>\n",
       "      <td>Netflix</td>\n",
       "      <td>1</td>\n",
       "      <td>0</td>\n",
       "      <td>253.00</td>\n",
       "      <td>food</td>\n",
       "    </tr>\n",
       "    <tr>\n",
       "      <th>4</th>\n",
       "      <td>5</td>\n",
       "      <td>2024-01-05</td>\n",
       "      <td>111.0</td>\n",
       "      <td>USD</td>\n",
       "      <td>FR</td>\n",
       "      <td>IKEA</td>\n",
       "      <td>5</td>\n",
       "      <td>0</td>\n",
       "      <td>102.12</td>\n",
       "      <td>NaN</td>\n",
       "    </tr>\n",
       "  </tbody>\n",
       "</table>\n",
       "</div>"
      ],
      "text/plain": [
       "   transaction_id       date  amount currency country merchant  merchant_id  \\\n",
       "0               1 2024-01-01   107.0      GBP      IT   Amazon            4   \n",
       "1               2 2024-01-02   440.0      GBP      US  Netflix            2   \n",
       "2               3 2024-01-03   353.0      USD      GR     IKEA            3   \n",
       "3               4 2024-01-04   275.0      GBP      FR  Netflix            1   \n",
       "4               5 2024-01-05   111.0      USD      FR     IKEA            5   \n",
       "\n",
       "   class  amount_eur     category  \n",
       "0      0       98.44          NaN  \n",
       "1      0      404.80  electronics  \n",
       "2      0      324.76       travel  \n",
       "3      0      253.00         food  \n",
       "4      0      102.12          NaN  "
      ]
     },
     "execution_count": 21,
     "metadata": {},
     "output_type": "execute_result"
    }
   ],
   "source": [
    "df_merchants = pd.DataFrame({\n",
    "    \"merchant_id\": [1, 2, 3],\n",
    "    \"category\": [\"food\", \"electronics\", \"travel\"]\n",
    "}) # Δημιουργεί ένα μικρό lookup table με merchants: κάθε merchant_id έχει κατηγορία (food, electronics, travel)..\n",
    "\n",
    "merged = pd.merge(df, df_merchants, # pd.merge = “join” όπως στη SQL.\n",
    "                  on=\"merchant_id\", # ενώνει τις δύο πηγές πάνω στη στήλη merchant_id.\n",
    "                  how=\"left\") # κρατάει όλες τις γραμμές του df, και αν υπάρχει matching merchant_id στο df_merchants φέρνει την category. Αν δεν υπάρχει, βάζει NaN.\n",
    "merged.head()\n"
   ]
  },
  {
   "cell_type": "markdown",
   "id": "0eb3ad8d",
   "metadata": {},
   "source": [
    "5) Mini-Ασκήσεις"
   ]
  },
  {
   "cell_type": "markdown",
   "id": "c8327e9f",
   "metadata": {},
   "source": [
    "5.1 Μέτρημα ποσοστού απάτης “class 1” (fraud ratio) στο dataset"
   ]
  },
  {
   "cell_type": "code",
   "execution_count": null,
   "id": "b549f023",
   "metadata": {},
   "outputs": [
    {
     "data": {
      "text/plain": [
       "np.float64(0.18)"
      ]
     },
     "execution_count": 25,
     "metadata": {},
     "output_type": "execute_result"
    }
   ],
   "source": [
    "fraud_ratio = df[\"class\"].value_counts(normalize=True).get(1, 0) # normalize=True → αντί για απόλυτους αριθμούς δίνει ποσοστά (τα counts διαιρεμένα με το σύνολο). Συνήθως σε datasets για fraud detection, class = 0 σημαίνει κανονική συναλλαγή, class = 1 σημαίνει fraud.\n",
    "fraud_ratio # Επιστρέφει έναν αριθμό (float) π.χ. 0.018 → σημαίνει ότι το 1.8% των συναλλαγών είναι απάτες (class 1). Αν δεν υπάρχει καθόλου class 1, επιστρέφει 0 χάρη στο get(1, 0)."
   ]
  },
  {
   "cell_type": "markdown",
   "id": "a1715d10",
   "metadata": {},
   "source": [
    "5.2 Top-5 merchants κατά median amount"
   ]
  },
  {
   "cell_type": "code",
   "execution_count": 26,
   "id": "45d3010b",
   "metadata": {},
   "outputs": [
    {
     "data": {
      "text/plain": [
       "merchant\n",
       "Amazon     298.0\n",
       "Netflix    294.0\n",
       "Spotify    240.0\n",
       "eBay       179.0\n",
       "IKEA       126.0\n",
       "Name: amount, dtype: float64"
      ]
     },
     "execution_count": 26,
     "metadata": {},
     "output_type": "execute_result"
    }
   ],
   "source": [
    "df.groupby(\"merchant\")[\"amount\"].median().nlargest(5)"
   ]
  },
  {
   "cell_type": "markdown",
   "id": "96939df0",
   "metadata": {},
   "source": [
    "1. df.groupby(\"merchant\")\n",
    "- Ομαδοποιεί το DataFrame ανά merchant.\n",
    "- Δηλαδή “όλες οι συναλλαγές του merchant Α μαζί, όλες του Β μαζί, κ.ο.κ.”.\n",
    "2. [\"amount\"].median()\n",
    "- Σε κάθε ομάδα (merchant) παίρνει τη διάμεσο της στήλης amount.\n",
    "- Η διάμεσος (median) είναι το μεσαίο ποσό όταν ταξινομήσεις τις συναλλαγές.\n",
    "- Είναι πιο “ανθεκτική” σε ακραίες τιμές από τον μέσο όρο (mean).\n",
    "Παράδειγμα: αν ο merchant Α έχει amounts [10, 15, 1000] →\n",
    "- mean = 341.7 (τραβηγμένο προς τα πάνω λόγω outlier),\n",
    "- median = 15 (πιο “αντιπροσωπευτικό”).\n",
    "3. .nlargest(5)\n",
    "- Παίρνει τους 5 μεγαλύτερους merchants με βάση τη διάμεσο.\n",
    "- Επιστρέφει Series όπου index=merchant, value=median amount."
   ]
  },
  {
   "cell_type": "markdown",
   "id": "21c5f2dd",
   "metadata": {},
   "source": [
    "5.3 Mean amount ανά ώρα ημέρας"
   ]
  },
  {
   "cell_type": "code",
   "execution_count": 30,
   "id": "99ddcc68",
   "metadata": {},
   "outputs": [
    {
     "data": {
      "text/plain": [
       "hour_of_day\n",
       "0    268.18\n",
       "Name: amount, dtype: float64"
      ]
     },
     "execution_count": 30,
     "metadata": {},
     "output_type": "execute_result"
    }
   ],
   "source": [
    "df[\"hour_of_day\"] = df[\"date\"].dt.hour # Το .dt σου δίνει “πρόσβαση” σε κομμάτια της ημερομηνίας (year, month, day, hour, minute, κλπ.)\n",
    "df.groupby(\"hour_of_day\")[\"amount\"].mean() # Μέσο ποσό ανά ώρα της ημέρας (0-23). Το αποτέλεσμα είναι μια Series με index=ώρα, value=μέσο ποσό "
   ]
  },
  {
   "cell_type": "markdown",
   "id": "4d081b28",
   "metadata": {},
   "source": [
    "Με αυτές τις 2 γραμμές βρίσκεις ποια ώρα της ημέρας τείνουν να είναι πιο “ακριβές” οι συναλλαγές. Πολύ χρήσιμο για fraud analysis, π.χ. αν η απάτη συμβαίνει κυρίως σε περίεργες ώρες (π.χ. 2–3 τα ξημερώματα)."
   ]
  }
 ],
 "metadata": {
  "kernelspec": {
   "display_name": ".venv",
   "language": "python",
   "name": "python3"
  },
  "language_info": {
   "codemirror_mode": {
    "name": "ipython",
    "version": 3
   },
   "file_extension": ".py",
   "mimetype": "text/x-python",
   "name": "python",
   "nbconvert_exporter": "python",
   "pygments_lexer": "ipython3",
   "version": "3.13.0"
  }
 },
 "nbformat": 4,
 "nbformat_minor": 5
}
