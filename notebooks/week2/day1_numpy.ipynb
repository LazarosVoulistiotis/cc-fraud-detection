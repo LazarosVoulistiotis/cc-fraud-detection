{
 "cells": [
  {
   "cell_type": "markdown",
   "id": "309c7564",
   "metadata": {},
   "source": [
    "## NumPy τα απολύτως βασικά"
   ]
  },
  {
   "cell_type": "markdown",
   "id": "55e5d279",
   "metadata": {},
   "source": [
    "1. Εισαγωγή & seed"
   ]
  },
  {
   "cell_type": "code",
   "execution_count": 2,
   "id": "934541d4",
   "metadata": {},
   "outputs": [],
   "source": [
    "import numpy as np\n",
    "\n",
    "# Αναπαραγωγιμότητα για τυχαίους αριθμούς\n",
    "np.random.seed(42)"
   ]
  },
  {
   "cell_type": "markdown",
   "id": "c4c1616d",
   "metadata": {},
   "source": [
    "2. Δημιουργία arrays"
   ]
  },
  {
   "cell_type": "code",
   "execution_count": 11,
   "id": "fd72d38f",
   "metadata": {},
   "outputs": [
    {
     "data": {
      "text/plain": [
       "(array([1, 2, 3]),\n",
       " array([0, 2, 4, 6, 8]),\n",
       " array([0.  , 0.25, 0.5 , 0.75, 1.  ]),\n",
       " array([[0., 0., 0.],\n",
       "        [0., 0., 0.]]),\n",
       " array([[1., 1.],\n",
       "        [1., 1.],\n",
       "        [1., 1.]]),\n",
       " array([[0.37454012, 0.95071431, 0.73199394],\n",
       "        [0.59865848, 0.15601864, 0.15599452]]),\n",
       " array([[7, 4, 3],\n",
       "        [7, 7, 2]], dtype=int32))"
      ]
     },
     "execution_count": 11,
     "metadata": {},
     "output_type": "execute_result"
    }
   ],
   "source": [
    "a = np.array([1, 2, 3])\n",
    "b = np.arange(0, 10, 2)         # 0,2,4,6,8\n",
    "c = np.linspace(0, 1, 5)        # 5 τιμές από 0 έως 1\n",
    "z = np.zeros((2, 3))            # 2x3 μηδενικό\n",
    "o = np.ones((3, 2))             # 3x2 άσσοι\n",
    "r = np.random.rand(2, 3)        # ομοιόμορφη [0,1)\n",
    "ri = np.random.randint(0, 10, size=(2, 3))  # ακέραιοι [0,10)\n",
    "\n",
    "a, b, c, z, o, r, ri\n",
    "\n"
   ]
  },
  {
   "cell_type": "markdown",
   "id": "a8e1bb93",
   "metadata": {},
   "source": [
    "3. Ιδιότητες array"
   ]
  },
  {
   "cell_type": "code",
   "execution_count": 19,
   "id": "393314e4",
   "metadata": {},
   "outputs": [
    {
     "name": "stdout",
     "output_type": "stream",
     "text": [
      "dtype: float64\n",
      "shape: (3, 4)\n",
      "ndim: 2\n",
      "size: 12\n",
      "itemsize: 8 bytes ανά στοιχείο\n"
     ]
    }
   ],
   "source": [
    "arr = np.random.rand(3, 4)\n",
    "print(\"dtype:\", arr.dtype)\n",
    "print(\"shape:\", arr.shape)\n",
    "print(\"ndim:\", arr.ndim)\n",
    "print(\"size:\", arr.size)\n",
    "print(\"itemsize:\", arr.itemsize, \"bytes ανά στοιχείο\")\n",
    "\n"
   ]
  },
  {
   "cell_type": "markdown",
   "id": "2f5bd3ee",
   "metadata": {},
   "source": [
    "4. Indexing & Slicing"
   ]
  },
  {
   "cell_type": "code",
   "execution_count": 20,
   "id": "bbb46855",
   "metadata": {},
   "outputs": [
    {
     "name": "stdout",
     "output_type": "stream",
     "text": [
      "0 9\n",
      "[2 3 4 5 6]\n",
      "[0 2 4 6 8]\n",
      "M=\n",
      " [[ 0  1  2  3]\n",
      " [ 4  5  6  7]\n",
      " [ 8  9 10 11]]\n",
      "M[0, 0] = 0\n",
      "M[1, :2] = [4 5]\n",
      "M[:, -1] = [ 3  7 11]\n",
      "Block=\n",
      " [[1 2]\n",
      " [5 6]]\n"
     ]
    }
   ],
   "source": [
    "x = np.arange(10)\n",
    "print(x[0], x[-1])         # πρώτο/τελευταίο\n",
    "print(x[2:7])              # 2..6\n",
    "print(x[::2])              # step 2\n",
    "\n",
    "M = np.arange(12).reshape(3, 4)\n",
    "print(\"M=\\n\", M)\n",
    "print(\"M[0, 0] =\", M[0, 0])\n",
    "print(\"M[1, :2] =\", M[1, :2])     # γραμμή 1, πρώτες 2 στήλες\n",
    "print(\"M[:, -1] =\", M[:, -1])     # τελευταία στήλη\n",
    "print(\"Block=\\n\", M[0:2, 1:3])    # 2x2 υποπίνακας\n"
   ]
  },
  {
   "cell_type": "markdown",
   "id": "882567d3",
   "metadata": {},
   "source": [
    "5. Boolean masking & filtering"
   ]
  },
  {
   "cell_type": "code",
   "execution_count": 21,
   "id": "56786690",
   "metadata": {},
   "outputs": [
    {
     "name": "stdout",
     "output_type": "stream",
     "text": [
      "vals: [0.29214465 0.36636184 0.45606998 0.78517596 0.19967378 0.51423444\n",
      " 0.59241457 0.04645041 0.60754485 0.17052412]\n",
      "mask: [False False False  True False  True  True False  True False]\n"
     ]
    },
    {
     "data": {
      "text/plain": [
       "array([0.78517596, 0.51423444, 0.59241457, 0.60754485])"
      ]
     },
     "execution_count": 21,
     "metadata": {},
     "output_type": "execute_result"
    }
   ],
   "source": [
    "vals = np.random.rand(10)\n",
    "mask = vals > 0.5\n",
    "print(\"vals:\", vals)\n",
    "print(\"mask:\", mask)\n",
    "filtered = vals[mask]\n",
    "filtered\n"
   ]
  },
  {
   "cell_type": "markdown",
   "id": "65a72955",
   "metadata": {},
   "source": [
    "6. Broadcasting (πρόσθεση vector σε matrix, scaling)"
   ]
  },
  {
   "cell_type": "code",
   "execution_count": 22,
   "id": "a6b39c02",
   "metadata": {},
   "outputs": [
    {
     "name": "stdout",
     "output_type": "stream",
     "text": [
      "A+v=\n",
      " [[10 21 32]\n",
      " [13 24 35]]\n",
      "2*A=\n",
      " [[ 0  2  4]\n",
      " [ 6  8 10]]\n"
     ]
    }
   ],
   "source": [
    "A = np.arange(6).reshape(2, 3)   # shape (2,3)\n",
    "v = np.array([10, 20, 30])       # shape (3,)\n",
    "print(\"A+v=\\n\", A + v)           # προσθέτει ανά στήλη\n",
    "print(\"2*A=\\n\", 2 * A)           # scaling\n",
    "\n"
   ]
  },
  {
   "cell_type": "markdown",
   "id": "f9a5e2b8",
   "metadata": {},
   "source": [
    "7. Συναρτήσεις κατά axis"
   ]
  },
  {
   "cell_type": "code",
   "execution_count": null,
   "id": "688b6b50",
   "metadata": {},
   "outputs": [],
   "source": [
    "B = np.arange(12).reshape(3, 4)\n",
    "print(\"sum axis=0 (στήλες):\", np.sum(B, axis=0))\n",
    "print(\"sum axis=1 (γραμμές):\", np.sum(B, axis=1))\n",
    "print(\"mean axis=0:\", np.mean(B, axis=0))\n",
    "print(\"std axis=1:\", np.std(B, axis=1))\n",
    "print(\"max:\", np.max(B), \"min:\", np.min(B))\n"
   ]
  },
  {
   "cell_type": "markdown",
   "id": "487c11c6",
   "metadata": {},
   "source": [
    "8. Reshape / Ravel / Flatten / Stacking"
   ]
  },
  {
   "cell_type": "code",
   "execution_count": 23,
   "id": "b6bdc858",
   "metadata": {},
   "outputs": [
    {
     "name": "stdout",
     "output_type": "stream",
     "text": [
      "reshape 2x4:\n",
      " [[0 1 2 3]\n",
      " [4 5 6 7]]\n",
      "D μετά: [[999   1   2]\n",
      " [  3   4   5]]\n",
      "ravel (view) βλέπει αλλαγή: [999   1   2   3   4   5]\n",
      "flatten (copy) ΔΕΝ αλλάζει: [0 1 2 3 4 5]\n",
      "concatenate κατά άξονα 0:\n",
      " [[1. 1.]\n",
      " [1. 1.]\n",
      " [0. 0.]\n",
      " [0. 0.]]\n",
      "vstack:\n",
      " [[1. 1.]\n",
      " [1. 1.]\n",
      " [0. 0.]\n",
      " [0. 0.]]\n",
      "hstack:\n",
      " [[1. 1. 0. 0.]\n",
      " [1. 1. 0. 0.]]\n"
     ]
    }
   ],
   "source": [
    "C = np.arange(8)\n",
    "print(\"reshape 2x4:\\n\", C.reshape(2,4))\n",
    "\n",
    "# Προσοχή: ravel -> view (όπου γίνεται), flatten -> πάντα νέο array (copy)\n",
    "D = np.arange(6).reshape(2,3)\n",
    "rv = D.ravel()\n",
    "fl = D.flatten()\n",
    "D[0,0] = 999\n",
    "print(\"D μετά:\", D)\n",
    "print(\"ravel (view) βλέπει αλλαγή:\", rv)\n",
    "print(\"flatten (copy) ΔΕΝ αλλάζει:\", fl)\n",
    "\n",
    "# Concatenate / vstack / hstack\n",
    "X = np.ones((2,2))\n",
    "Y = np.zeros((2,2))\n",
    "print(\"concatenate κατά άξονα 0:\\n\", np.concatenate([X, Y], axis=0))\n",
    "print(\"vstack:\\n\", np.vstack([X, Y]))\n",
    "print(\"hstack:\\n\", np.hstack([X, Y]))\n"
   ]
  },
  {
   "cell_type": "markdown",
   "id": "2e0f1dfe",
   "metadata": {},
   "source": [
    "9. Vectorization vs Loops (%%timeit)"
   ]
  },
  {
   "cell_type": "code",
   "execution_count": 12,
   "id": "54c92c99",
   "metadata": {},
   "outputs": [
    {
     "name": "stdout",
     "output_type": "stream",
     "text": [
      "326 ms ± 25.9 ms per loop (mean ± std. dev. of 7 runs, 1 loop each)\n",
      "3.59 ms ± 152 μs per loop (mean ± std. dev. of 7 runs, 100 loops each)\n"
     ]
    }
   ],
   "source": [
    "# Προσοχή: τρέχει μόνο σε Jupyter ως cell magic\n",
    "N = 1_000_000\n",
    "arr = np.random.rand(N)\n",
    "\n",
    "# Loop\n",
    "def square_loop(a):\n",
    "    out = np.empty_like(a)\n",
    "    for i in range(a.size):\n",
    "        out[i] = a[i]*a[i]\n",
    "    return out\n",
    "\n",
    "# Vectorized\n",
    "def square_vec(a):\n",
    "    return a*a\n",
    "\n",
    "%timeit square_loop(arr)   \n",
    "%timeit square_vec(arr)    \n"
   ]
  },
  {
   "cell_type": "markdown",
   "id": "c2e5417b",
   "metadata": {},
   "source": [
    "## Mini Ασκήσεις"
   ]
  },
  {
   "cell_type": "markdown",
   "id": "298895fa",
   "metadata": {},
   "source": [
    "3.1 Ευκλείδεια απόσταση (χωρίς loop)\n",
    "\n",
    "Ζήτηση: Δοθέντα δύο διανύσματα u, v ίδιου μήκους, υπολόγισε την απόσταση \\( |u - v|_2 \\).\n",
    "\n",
    "Hint: np.linalg.norm(u - v)\n",
    "\n",
    "Λύση:"
   ]
  },
  {
   "cell_type": "code",
   "execution_count": 13,
   "id": "59e2ce9b",
   "metadata": {},
   "outputs": [
    {
     "data": {
      "text/plain": [
       "np.float64(7.0710678118654755)"
      ]
     },
     "execution_count": 13,
     "metadata": {},
     "output_type": "execute_result"
    }
   ],
   "source": [
    "u = np.array([1.0, 2.0, 3.0])\n",
    "v = np.array([4.0, 6.0, 8.0])\n",
    "\n",
    "dist = np.linalg.norm(u - v)  # ή np.sqrt(np.sum((u-v)**2))\n",
    "dist\n"
   ]
  },
  {
   "cell_type": "markdown",
   "id": "f1316a68",
   "metadata": {},
   "source": [
    "3.2 Standardization (z‑score) ανά στήλη σε 2D array"
   ]
  },
  {
   "cell_type": "markdown",
   "id": "30892639",
   "metadata": {},
   "source": [
    "Ζήτηση: Για A σχήματος (n_samples, n_features), αφαίρεσε το mean ανά στήλη και διαίρεσε με std ανά στήλη.\n",
    "\n",
    "Προσοχή: Απόφυγε division by zero όταν std=0.\n",
    "\n",
    "Λύση:"
   ]
  },
  {
   "cell_type": "code",
   "execution_count": 14,
   "id": "6baac31a",
   "metadata": {},
   "outputs": [
    {
     "data": {
      "text/plain": [
       "(array([[-1.22474487, -1.22474487, -1.22474487],\n",
       "        [ 0.        ,  0.        ,  0.        ],\n",
       "        [ 1.22474487,  1.22474487,  1.22474487]]),\n",
       " array([0., 0., 0.]),\n",
       " array([1., 1., 1.]))"
      ]
     },
     "execution_count": 14,
     "metadata": {},
     "output_type": "execute_result"
    }
   ],
   "source": [
    "A = np.array([[1., 2., 3.],\n",
    "              [4., 5., 6.],\n",
    "              [7., 8., 9.]])\n",
    "\n",
    "col_mean = A.mean(axis=0)\n",
    "col_std  = A.std(axis=0, ddof=0)  # population std\n",
    "safe_std = np.where(col_std==0, 1.0, col_std)\n",
    "A_z = (A - col_mean) / safe_std\n",
    "\n",
    "A_z, A_z.mean(axis=0), A_z.std(axis=0)\n"
   ]
  },
  {
   "cell_type": "markdown",
   "id": "cfe8afd1",
   "metadata": {},
   "source": [
    "3.3 Dot product, elementwise product, covariance matrix"
   ]
  },
  {
   "cell_type": "markdown",
   "id": "a1dd7233",
   "metadata": {},
   "source": [
    "Ζήτηση:\n",
    "\n",
    "Υπολόγισε dot product δύο διανυσμάτων.\n",
    "\n",
    "Δείξε διαφορά με elementwise πολλαπλασιασμό.\n",
    "\n",
    "Υπολόγισε covariance matrix και σχολίασε.\n",
    "\n",
    "Hint: np.dot(a, b) vs a*b, np.cov(X, rowvar=False).\n",
    "\n",
    "Λύση:"
   ]
  },
  {
   "cell_type": "code",
   "execution_count": 3,
   "id": "a94daee2",
   "metadata": {},
   "outputs": [
    {
     "data": {
      "text/plain": [
       "(np.int64(140),\n",
       " array([10, 40, 90]),\n",
       " (3, 3),\n",
       " array([[ 0.09338628, -0.11086559, -0.02943783],\n",
       "        [-0.11086559,  0.18770817,  0.0336127 ],\n",
       "        [-0.02943783,  0.0336127 ,  0.12511719]]))"
      ]
     },
     "execution_count": 3,
     "metadata": {},
     "output_type": "execute_result"
    }
   ],
   "source": [
    "a = np.array([1, 2, 3])\n",
    "b = np.array([10, 20, 30])\n",
    "\n",
    "dot_ab = np.dot(a, b)   # scalar\n",
    "elem   = a * b          # elementwise\n",
    "\n",
    "# Dataset: 5 samples, 3 features\n",
    "X = np.random.rand(5, 3)\n",
    "# rowvar=False: κάθε στήλη = feature\n",
    "cov = np.cov(X, rowvar=False, ddof=1)\n",
    "\n",
    "dot_ab, elem, cov.shape, cov\n",
    "# Το dot δίνει ένα scalar (ή matrix multiplication σε 2D), το * είναι στοιχείο‑προς‑στοιχείο. Το np.cov επιστρέφει μήτρα συνδιακύμανσης (features × features)."
   ]
  }
 ],
 "metadata": {
  "kernelspec": {
   "display_name": ".venv",
   "language": "python",
   "name": "python3"
  },
  "language_info": {
   "codemirror_mode": {
    "name": "ipython",
    "version": 3
   },
   "file_extension": ".py",
   "mimetype": "text/x-python",
   "name": "python",
   "nbconvert_exporter": "python",
   "pygments_lexer": "ipython3",
   "version": "3.13.0"
  }
 },
 "nbformat": 4,
 "nbformat_minor": 5
}
